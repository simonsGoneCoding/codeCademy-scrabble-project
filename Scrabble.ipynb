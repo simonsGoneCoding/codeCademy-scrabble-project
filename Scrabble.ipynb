{
 "cells": [
  {
   "cell_type": "code",
   "execution_count": 1,
   "metadata": {},
   "outputs": [],
   "source": [
    "letters = [\"A\", \"B\", \"C\", \"D\", \"E\", \"F\", \"G\", \"H\", \"I\", \"J\", \"K\", \"L\", \"M\", \"N\", \"O\", \"P\", \"Q\", \"R\", \"S\", \"T\", \"U\", \"V\", \"W\", \"X\", \"Y\", \"Z\"]\n",
    "\n",
    "points = [1, 3, 3, 2, 1, 4, 2, 4, 1, 8, 5, 1, 3, 4, 1, 3, 10, 1, 1, 1, 1, 4, 4, 8, 4, 10]"
   ]
  },
  {
   "cell_type": "code",
   "execution_count": 5,
   "metadata": {},
   "outputs": [],
   "source": [
    "letters_to_points = { key:value for key, value in zip(letters, points) }\n",
    "# print(letters_to_points)"
   ]
  },
  {
   "cell_type": "code",
   "execution_count": 9,
   "metadata": {},
   "outputs": [],
   "source": [
    "# letters_to_points[' '] = 0\n",
    "letters_to_points.update({\" \": 0})\n",
    "# print(letters_to_points)"
   ]
  },
  {
   "cell_type": "code",
   "execution_count": 26,
   "metadata": {},
   "outputs": [],
   "source": [
    "def score_word(word):\n",
    "    print_total = 0\n",
    "    for letter in word:\n",
    "        cap_letter = letter.upper()\n",
    "#         print_total += letters_to_points[cap_letter]\n",
    "        print_total += letters_to_points.get(cap_letter, 0)\n",
    "    return print_total"
   ]
  },
  {
   "cell_type": "code",
   "execution_count": 29,
   "metadata": {},
   "outputs": [
    {
     "name": "stdout",
     "output_type": "stream",
     "text": [
      "15\n"
     ]
    }
   ],
   "source": [
    "print(score_word(\"Brownie\"))"
   ]
  },
  {
   "cell_type": "code",
   "execution_count": 30,
   "metadata": {},
   "outputs": [],
   "source": [
    "player_to_words = {\n",
    "    \"player1\": [\"blue\", \"Tennis\", \"exit\"],\n",
    "    \"wordNerd\" : [\"earth\", \"eyes\", \"Machine\"], \n",
    "    \"Lexi Con\": [\"eraser\", \"belly\", \"husky\"],\n",
    "    \"Prof Reader\": [\"zap\", \"coma\", \"period\"]\n",
    "}"
   ]
  },
  {
   "cell_type": "code",
   "execution_count": 36,
   "metadata": {},
   "outputs": [
    {
     "name": "stdout",
     "output_type": "stream",
     "text": [
      "{'player1': 29, 'wordNerd': 32, 'Lexi Con': 31, 'Prof Reader': 31}\n"
     ]
    }
   ],
   "source": [
    "player_to_points = {}\n",
    "\n",
    "for player, words in player_to_words.items():\n",
    "    player_points = 0\n",
    "    for word in words:\n",
    "        player_points += score_word(word)\n",
    "    player_to_points[player] = player_points\n",
    "\n",
    "print(player_to_points)"
   ]
  },
  {
   "cell_type": "code",
   "execution_count": null,
   "metadata": {},
   "outputs": [],
   "source": []
  }
 ],
 "metadata": {
  "kernelspec": {
   "display_name": "Python 3",
   "language": "python",
   "name": "python3"
  },
  "language_info": {
   "codemirror_mode": {
    "name": "ipython",
    "version": 3
   },
   "file_extension": ".py",
   "mimetype": "text/x-python",
   "name": "python",
   "nbconvert_exporter": "python",
   "pygments_lexer": "ipython3",
   "version": "3.8.3"
  }
 },
 "nbformat": 4,
 "nbformat_minor": 4
}
